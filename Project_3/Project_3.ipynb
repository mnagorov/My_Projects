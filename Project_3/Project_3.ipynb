{
 "cells": [
  {
   "cell_type": "markdown",
   "id": "cb6d05c4-b0bd-41b6-9dd6-f2e7a24a1407",
   "metadata": {},
   "source": [
    "# Модель классификации комментариев с BERT"
   ]
  },
  {
   "cell_type": "markdown",
   "id": "052137a6-d394-40e7-8b9d-ffb46d0dc4ec",
   "metadata": {},
   "source": [
    "# Описание проекта"
   ]
  },
  {
   "cell_type": "markdown",
   "id": "08d6a1f8-1513-451d-9069-610c4bc63f38",
   "metadata": {},
   "source": [
    "Интернет-магазин «Викишоп» запускает новый сервис. Теперь пользователи могут редактировать и дополнять описания товаров, как в вики-сообществах. То есть клиенты предлагают свои правки и комментируют изменения других. Магазину нужен инструмент, который будет искать токсичные комментарии и отправлять их на модерацию. "
   ]
  },
  {
   "cell_type": "markdown",
   "id": "bf73bd2a-2b54-4c54-93e4-95c0c4542694",
   "metadata": {},
   "source": [
    "# Цель"
   ]
  },
  {
   "cell_type": "markdown",
   "id": "99c21291-2867-4c08-b520-1b55dd1d0c0f",
   "metadata": {},
   "source": [
    "Обучить модель классифицировать комментарии на позитивные и негативные."
   ]
  },
  {
   "cell_type": "markdown",
   "id": "f46bfa7b-3348-4d96-9f92-7f1d4f5b77f4",
   "metadata": {},
   "source": [
    "# Загрузка данных"
   ]
  },
  {
   "cell_type": "code",
   "execution_count": 1,
   "id": "26c758d7-8a19-4616-9097-c7b8b5d5189e",
   "metadata": {},
   "outputs": [],
   "source": [
    "!pip install torch -q\n",
    "!pip install transformers -q\n",
    "!pip install lightgbm==3.3.1 -q\n",
    "import numpy as np\n",
    "import pandas as pd\n",
    "import matplotlib.pyplot as plt\n",
    "import torch\n",
    "import transformers\n",
    "from transformers import AutoTokenizer, AutoModel\n",
    "from tqdm import notebook\n",
    "from sklearn.model_selection import train_test_split\n",
    "from sklearn.linear_model import LogisticRegression\n",
    "from sklearn.neighbors import KNeighborsClassifier\n",
    "from sklearn.tree import DecisionTreeClassifier\n",
    "from sklearn.svm import SVC\n",
    "from lightgbm import LGBMClassifier\n",
    "from sklearn.model_selection import RandomizedSearchCV, GridSearchCV\n",
    "from sklearn.metrics import f1_score, recall_score, precision_score"
   ]
  },
  {
   "cell_type": "code",
   "execution_count": 2,
   "id": "aaead757-6725-442e-af54-54da4bddb3ce",
   "metadata": {},
   "outputs": [],
   "source": [
    "RANDOM_STATE = 42\n",
    "TEST_SIZE = 0.25"
   ]
  },
  {
   "cell_type": "code",
   "execution_count": 3,
   "id": "ef943adc-cb67-4038-abb8-eb0994e39fb2",
   "metadata": {},
   "outputs": [
    {
     "name": "stdout",
     "output_type": "stream",
     "text": [
      "<class 'pandas.core.frame.DataFrame'>\n",
      "RangeIndex: 159292 entries, 0 to 159291\n",
      "Data columns (total 3 columns):\n",
      " #   Column      Non-Null Count   Dtype \n",
      "---  ------      --------------   ----- \n",
      " 0   Unnamed: 0  159292 non-null  int64 \n",
      " 1   text        159292 non-null  object\n",
      " 2   toxic       159292 non-null  int64 \n",
      "dtypes: int64(2), object(1)\n",
      "memory usage: 3.6+ MB\n"
     ]
    },
    {
     "data": {
      "text/html": [
       "<div>\n",
       "<style scoped>\n",
       "    .dataframe tbody tr th:only-of-type {\n",
       "        vertical-align: middle;\n",
       "    }\n",
       "\n",
       "    .dataframe tbody tr th {\n",
       "        vertical-align: top;\n",
       "    }\n",
       "\n",
       "    .dataframe thead th {\n",
       "        text-align: right;\n",
       "    }\n",
       "</style>\n",
       "<table border=\"1\" class=\"dataframe\">\n",
       "  <thead>\n",
       "    <tr style=\"text-align: right;\">\n",
       "      <th></th>\n",
       "      <th>Unnamed: 0</th>\n",
       "      <th>text</th>\n",
       "      <th>toxic</th>\n",
       "    </tr>\n",
       "  </thead>\n",
       "  <tbody>\n",
       "    <tr>\n",
       "      <th>0</th>\n",
       "      <td>0</td>\n",
       "      <td>Explanation\\nWhy the edits made under my usern...</td>\n",
       "      <td>0</td>\n",
       "    </tr>\n",
       "    <tr>\n",
       "      <th>1</th>\n",
       "      <td>1</td>\n",
       "      <td>D'aww! He matches this background colour I'm s...</td>\n",
       "      <td>0</td>\n",
       "    </tr>\n",
       "    <tr>\n",
       "      <th>2</th>\n",
       "      <td>2</td>\n",
       "      <td>Hey man, I'm really not trying to edit war. It...</td>\n",
       "      <td>0</td>\n",
       "    </tr>\n",
       "    <tr>\n",
       "      <th>3</th>\n",
       "      <td>3</td>\n",
       "      <td>\"\\nMore\\nI can't make any real suggestions on ...</td>\n",
       "      <td>0</td>\n",
       "    </tr>\n",
       "    <tr>\n",
       "      <th>4</th>\n",
       "      <td>4</td>\n",
       "      <td>You, sir, are my hero. Any chance you remember...</td>\n",
       "      <td>0</td>\n",
       "    </tr>\n",
       "  </tbody>\n",
       "</table>\n",
       "</div>"
      ],
      "text/plain": [
       "   Unnamed: 0                                               text  toxic\n",
       "0           0  Explanation\\nWhy the edits made under my usern...      0\n",
       "1           1  D'aww! He matches this background colour I'm s...      0\n",
       "2           2  Hey man, I'm really not trying to edit war. It...      0\n",
       "3           3  \"\\nMore\\nI can't make any real suggestions on ...      0\n",
       "4           4  You, sir, are my hero. Any chance you remember...      0"
      ]
     },
     "execution_count": 3,
     "metadata": {},
     "output_type": "execute_result"
    }
   ],
   "source": [
    "df = pd.read_csv('toxic_comments.csv', sep=',')\n",
    "df.info()\n",
    "df.head()"
   ]
  },
  {
   "cell_type": "code",
   "execution_count": 4,
   "id": "c736976b-be09-4d27-9791-326a0717d48a",
   "metadata": {},
   "outputs": [
    {
     "data": {
      "image/png": "[encoded data removed]",
      "text/plain": [
       "<Figure size 700x500 with 1 Axes>"
      ]
     },
     "metadata": {},
     "output_type": "display_data"
    }
   ],
   "source": [
    "def barh(ser):\n",
    "    ser.value_counts(ascending=True).plot.barh(figsize=(7,5), grid=True)\n",
    "    plt.title(\"Столбчатая диаграмма параметра \"+ser.name)\n",
    "    plt.xlabel(\"Частота\")\n",
    "    plt.ylabel(ser.name)\n",
    "    \n",
    "barh(df['toxic'])  "
   ]
  },
  {
   "cell_type": "markdown",
   "id": "1329517c-e575-4a91-bbb7-5d126e03f0b5",
   "metadata": {},
   "source": [
    "Видно, что токсичных комментариев значительно меньше."
   ]
  },
  {
   "cell_type": "markdown",
   "id": "69ff6535-61cc-41e4-9e50-9769ad4870c2",
   "metadata": {},
   "source": [
    "# Эмбидинги"
   ]
  },
  {
   "cell_type": "code",
   "execution_count": 5,
   "id": "b212486d-f417-4c17-8cf1-e45f75e92bba",
   "metadata": {},
   "outputs": [],
   "source": [
    "df = df.sample(10000, random_state=RANDOM_STATE)\n",
    "\n",
    "tokenizer = AutoTokenizer.from_pretrained(\"unitary/toxic-bert\")\n",
    "\n",
    "tokenized = df['text'].apply(\n",
    "    lambda x: tokenizer.encode(x, add_special_tokens=True, truncation=True))\n",
    "\n",
    "max_len = 0\n",
    "for i in tokenized.values:\n",
    "    if len(i) > max_len:\n",
    "        max_len = len(i)\n",
    "\n",
    "padded = np.array([i + [0]*(max_len - len(i)) for i in tokenized.values])\n",
    "\n",
    "attention_mask = np.where(padded != 0, 1, 0)"
   ]
  },
  {
   "cell_type": "code",
   "execution_count": 6,
   "id": "c35095f0-114a-47cb-a07c-fa78719da649",
   "metadata": {},
   "outputs": [],
   "source": [
    "model_emb = AutoModel.from_pretrained(\"unitary/toxic-bert\")"
   ]
  },
  {
   "cell_type": "code",
   "execution_count": 7,
   "id": "7b075182-085c-4a82-a518-8291a08fe215",
   "metadata": {},
   "outputs": [
    {
     "data": {
      "application/vnd.jupyter.widget-view+json": {
       "model_id": "fd6d1845a5154a1385775d14c744d864",
       "version_major": 2,
       "version_minor": 0
      },
      "text/plain": [
       "  0%|          | 0/100 [00:00<?, ?it/s]"
      ]
     },
     "metadata": {},
     "output_type": "display_data"
    }
   ],
   "source": [
    "batch_size = 100\n",
    "embeddings = []\n",
    "for i in notebook.tqdm(range(padded.shape[0] // batch_size)):\n",
    "        batch = torch.LongTensor(padded[batch_size*i:batch_size*(i+1)]) \n",
    "        attention_mask_batch = torch.LongTensor(attention_mask[batch_size*i:batch_size*(i+1)])\n",
    "        \n",
    "        with torch.no_grad():\n",
    "            batch_embeddings = model_emb(batch, attention_mask=attention_mask_batch)\n",
    "        \n",
    "        embeddings.append(batch_embeddings[0][:,0,:].numpy())"
   ]
  },
  {
   "cell_type": "code",
   "execution_count": 8,
   "id": "09bdcfdc-0c49-4838-8746-7c1da05ca19a",
   "metadata": {},
   "outputs": [],
   "source": [
    "features = np.concatenate(embeddings)"
   ]
  },
  {
   "cell_type": "markdown",
   "id": "905329e7-6cb2-411a-8883-907cd9d75bde",
   "metadata": {},
   "source": [
    "# Моделирование"
   ]
  },
  {
   "cell_type": "code",
   "execution_count": 9,
   "id": "5539710a-e896-460e-872d-70f58094d2d4",
   "metadata": {},
   "outputs": [],
   "source": [
    "X = features\n",
    "y = df['toxic']\n",
    "\n",
    "X_train, X_test, y_train, y_test = train_test_split(X, y, random_state=RANDOM_STATE, test_size=TEST_SIZE)"
   ]
  },
  {
   "cell_type": "markdown",
   "id": "f5900d99-aeb4-40e4-b6ea-dd9b2f94eedf",
   "metadata": {},
   "source": [
    "## LogisticRegression"
   ]
  },
  {
   "cell_type": "code",
   "execution_count": 10,
   "id": "4e92df74-ab20-4567-a275-31f4f16939a8",
   "metadata": {},
   "outputs": [
    {
     "name": "stdout",
     "output_type": "stream",
     "text": [
      "Лучшая модель и её параметры:\n",
      "\n",
      " LogisticRegression(C=14, random_state=42, solver='liblinear')\n",
      "Метрика f1 лучшей модели на кросс-валидации: 0.9356456383724044\n"
     ]
    }
   ],
   "source": [
    "model = LogisticRegression(random_state=RANDOM_STATE, solver='liblinear', penalty='l2')\n",
    "\n",
    "parameters = {\n",
    "    'C': range(1, 50)\n",
    "}\n",
    "\n",
    "rs_lr = RandomizedSearchCV(\n",
    "    model,\n",
    "    parameters,\n",
    "    n_jobs=-1,\n",
    "    random_state=RANDOM_STATE,\n",
    "    cv=5,\n",
    "    scoring='f1')\n",
    "\n",
    "rs_lr.fit(X_train, y_train)\n",
    "\n",
    "print('Лучшая модель и её параметры:\\n\\n', rs_lr.best_estimator_)\n",
    "print ('Метрика f1 лучшей модели на кросс-валидации:', rs_lr.best_score_)"
   ]
  },
  {
   "cell_type": "markdown",
   "id": "3fe59579-2b0d-4311-a8b0-47aa91134606",
   "metadata": {},
   "source": [
    "## DecisionTreeClassifier"
   ]
  },
  {
   "cell_type": "code",
   "execution_count": 11,
   "id": "a3340567-4316-4fc0-91a5-ce43bfa4325b",
   "metadata": {},
   "outputs": [
    {
     "name": "stdout",
     "output_type": "stream",
     "text": [
      "Лучшая модель и её параметры:\n",
      "\n",
      " DecisionTreeClassifier(max_depth=3, min_samples_leaf=12, min_samples_split=7,\n",
      "                       random_state=42)\n",
      "Метрика f1 лучшей модели на кросс-валидации: 0.9254518985843084\n"
     ]
    }
   ],
   "source": [
    "model = DecisionTreeClassifier(random_state=RANDOM_STATE)\n",
    "\n",
    "parameters = {\n",
    "    'min_samples_leaf': range(1, 15),\n",
    "    'max_depth': range(2, 15),\n",
    "    'min_samples_split': range(2, 15)\n",
    "}\n",
    "\n",
    "rs_dtc = RandomizedSearchCV(\n",
    "    model,\n",
    "    parameters,\n",
    "    n_jobs=-1,\n",
    "    random_state=RANDOM_STATE,\n",
    "    cv=5,\n",
    "    scoring='f1')\n",
    "\n",
    "rs_dtc.fit(X_train, y_train)\n",
    "\n",
    "print('Лучшая модель и её параметры:\\n\\n', rs_dtc.best_estimator_)\n",
    "print('Метрика f1 лучшей модели на кросс-валидации:', rs_dtc.best_score_)"
   ]
  },
  {
   "cell_type": "markdown",
   "id": "4159dc74-4916-4484-b237-eb99ad974a39",
   "metadata": {},
   "source": [
    "## KNeighborsClassifier"
   ]
  },
  {
   "cell_type": "code",
   "execution_count": 12,
   "id": "5a712225-50c6-442e-a837-0414a1d4bc1e",
   "metadata": {},
   "outputs": [
    {
     "name": "stdout",
     "output_type": "stream",
     "text": [
      "Лучшая модель и её параметры:\n",
      "\n",
      " KNeighborsClassifier(n_neighbors=15)\n",
      "Метрика f1 лучшей модели на кросс-валидации: 0.9513278933065639\n"
     ]
    }
   ],
   "source": [
    "model = KNeighborsClassifier()\n",
    "\n",
    "parameters = {\n",
    "    'n_neighbors': range(5, 50)\n",
    "}\n",
    "\n",
    "gs_knc = GridSearchCV(\n",
    "    model,\n",
    "    parameters,\n",
    "    n_jobs=-1,\n",
    "    cv=5,\n",
    "    scoring='f1')\n",
    "\n",
    "gs_knc.fit(X_train, y_train)\n",
    "\n",
    "print('Лучшая модель и её параметры:\\n\\n', gs_knc.best_estimator_)\n",
    "print ('Метрика f1 лучшей модели на кросс-валидации:', gs_knc.best_score_)"
   ]
  },
  {
   "cell_type": "markdown",
   "id": "2b9d11c3-271f-457f-a09d-434bacf7fa28",
   "metadata": {},
   "source": [
    "## SVC"
   ]
  },
  {
   "cell_type": "code",
   "execution_count": 13,
   "id": "20a439f8-1393-4d92-a51e-a3088bd3f542",
   "metadata": {},
   "outputs": [
    {
     "name": "stdout",
     "output_type": "stream",
     "text": [
      "Лучшая модель и её параметры:\n",
      "\n",
      " SVC(C=10, degree=1, kernel='poly')\n",
      "Метрика f1 лучшей модели на кросс-валидации: 0.9521077925571054\n"
     ]
    }
   ],
   "source": [
    "model = SVC()\n",
    "\n",
    "parameters = {\n",
    "    'kernel': ['linear', 'sigmoid', 'rbf', 'poly'],\n",
    "    'degree': range(1, 5),\n",
    "    'C': [0.1,1,10,100]\n",
    "}\n",
    "\n",
    "gs_svc = GridSearchCV(\n",
    "    model,\n",
    "    parameters,\n",
    "    n_jobs=-1,    \n",
    "    cv=5,\n",
    "    scoring='f1')\n",
    "\n",
    "gs_svc.fit(X_train, y_train)\n",
    "\n",
    "print('Лучшая модель и её параметры:\\n\\n', gs_svc.best_estimator_)\n",
    "print ('Метрика f1 лучшей модели на кросс-валидации:', gs_svc.best_score_)"
   ]
  },
  {
   "cell_type": "markdown",
   "id": "03c84d55-f14d-4a60-80a7-3c85265a26f0",
   "metadata": {},
   "source": [
    "# Анализ"
   ]
  },
  {
   "cell_type": "markdown",
   "id": "4d509fd8-9b24-4e60-b9d5-419e83f41f2b",
   "metadata": {},
   "source": [
    "Наилучший результат продемонстрировала модель SVC."
   ]
  },
  {
   "cell_type": "code",
   "execution_count": 14,
   "id": "044acfb2-8bb8-4042-918b-44e442b4d2dc",
   "metadata": {},
   "outputs": [
    {
     "name": "stdout",
     "output_type": "stream",
     "text": [
      "Метрика F1 на тестовой выборке: 0.9646182495344506\n"
     ]
    }
   ],
   "source": [
    "y_pred = gs_svc.predict(X_test)\n",
    "print(f'Метрика F1 на тестовой выборке: {f1_score(y_test, y_pred)}')"
   ]
  }
 ],
 "metadata": {
  "kernelspec": {
   "display_name": "Python 3 (ipykernel)",
   "language": "python",
   "name": "python3"
  },
  "language_info": {
   "codemirror_mode": {
    "name": "ipython",
    "version": 3
   },
   "file_extension": ".py",
   "mimetype": "text/x-python",
   "name": "python",
   "nbconvert_exporter": "python",
   "pygments_lexer": "ipython3",
   "version": "3.11.7"
  },
  "toc": {
   "base_numbering": 1,
   "nav_menu": {},
   "number_sections": true,
   "sideBar": true,
   "skip_h1_title": true,
   "title_cell": "Table of Contents",
   "title_sidebar": "Contents",
   "toc_cell": false,
   "toc_position": {},
   "toc_section_display": true,
   "toc_window_display": false
  }
 },
 "nbformat": 4,
 "nbformat_minor": 5
}
